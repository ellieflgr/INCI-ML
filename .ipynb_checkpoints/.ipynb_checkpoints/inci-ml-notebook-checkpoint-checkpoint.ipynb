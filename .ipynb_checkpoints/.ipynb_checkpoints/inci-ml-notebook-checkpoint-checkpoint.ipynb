{
 "cells": [
  {
   "cell_type": "markdown",
   "metadata": {},
   "source": [
    "Firstly, we are getting the raw ingredient lists from the links in the file links.txt, clean it all up and put\n",
    "it into lists for easy further processing.\n",
    "\n"
   ]
  },
  {
   "cell_type": "code",
   "execution_count": 2,
   "metadata": {},
   "outputs": [],
   "source": [
    "import requests\n",
    "import pandas as pd\n",
    "from bs4 import BeautifulSoup \n",
    "\n",
    "\n",
    "def getIngredientData():\n",
    "    #getting a list of links to get page html and parse out ingredient data\n",
    "    links_good = open('links_good.txt', 'r')\n",
    "    links = links.readlines()\n",
    "\n",
    "    for l in links:\n",
    "        #removing newline at end of link\n",
    "        url = requests.get(l.rstrip())\n",
    "\n",
    "        #getting the html\n",
    "        htmltext = url.text \n",
    "\n",
    "        #create soup object of the html code for further processing\n",
    "        soup = BeautifulSoup(htmltext, features=\"html.parser\")\n",
    "\n",
    "        #product name equals page title\n",
    "        productname = soup.title.text\n",
    "\n",
    "        #hardparse out ingredient list as html is inconsistent across pages\n",
    "\n",
    "        start_identifier = \"Inhaltsstoffe</strong><br />\"\n",
    "        idxstart = htmltext.find(start_identifier)\n",
    "        idxstart += len(start_identifier)\n",
    "\n",
    "        htmltext = htmltext[idxstart:].strip()\n",
    "\n",
    "        #two possibilities of marking end of ingredient list\n",
    "\n",
    "        idxend = htmltext.find('</p>')\n",
    "        idxend_alt = htmltext.find(\"</div>\")\n",
    "\n",
    "        #make sure that the first occurring ending marker in the string is used\n",
    "        if (idxend_alt < idxend and idxend_alt >= 0):\n",
    "            idxend = idxend_alt\n",
    "\n",
    "\n",
    "        htmltext = htmltext[:idxend].strip().replace(\"&nbsp;\",\"\")\n",
    "\n",
    "        ingredient_list = htmltext.split(\", \")\n",
    "\n",
    "        print(\"Produktname: \" + productname)\n",
    "        print(\"Ingredients: \" + ingredient_list)\n",
    "        print(\"\")\n",
    "    \n",
    "\n",
    "    #TODO return \n",
    "\n",
    "\n",
    "\n",
    "\n",
    "    "
   ]
  },
  {
   "cell_type": "code",
   "execution_count": null,
   "metadata": {},
   "outputs": [],
   "source": []
  },
  {
   "cell_type": "code",
   "execution_count": null,
   "metadata": {},
   "outputs": [],
   "source": []
  },
  {
   "cell_type": "code",
   "execution_count": null,
   "metadata": {},
   "outputs": [],
   "source": []
  }
 ],
 "metadata": {
  "kernelspec": {
   "display_name": "Python 3",
   "language": "python",
   "name": "python3"
  },
  "language_info": {
   "codemirror_mode": {
    "name": "ipython",
    "version": 3
   },
   "file_extension": ".py",
   "mimetype": "text/x-python",
   "name": "python",
   "nbconvert_exporter": "python",
   "pygments_lexer": "ipython3",
   "version": "3.8.10"
  }
 },
 "nbformat": 4,
 "nbformat_minor": 2
}
