{
 "cells": [
  {
   "cell_type": "code",
   "execution_count": 7,
   "metadata": {},
   "outputs": [],
   "source": [
    "import requests\n",
    "import pandas as pd\n",
    "from bs4 import BeautifulSoup "
   ]
  },
  {
   "cell_type": "markdown",
   "metadata": {},
   "source": [
    "Firstly, we are getting the raw ingredient lists from the links in the file links_good.txt, clean it all up and put\n",
    "it into lists for easy further processing.\n",
    "\n"
   ]
  },
  {
   "cell_type": "code",
   "execution_count": 8,
   "metadata": {},
   "outputs": [],
   "source": [
    "def get_links(txtfile):\n",
    "    links = open(txtfile, 'r').readlines()\n",
    "    \n",
    "    return links\n",
    "    "
   ]
  },
  {
   "cell_type": "code",
   "execution_count": 9,
   "metadata": {},
   "outputs": [],
   "source": [
    "def cs_getIngredientData():\n",
    "    #getting a list of links to get page html and parse out ingredient data\n",
    "   \n",
    "    links = get_links('links_cs_NI.txt')\n",
    "\n",
    "    \n",
    "    for l in links:\n",
    "        #removing newline at end of link\n",
    "        url = requests.get(l.rstrip())\n",
    "\n",
    "        #getting the html\n",
    "        htmltext = url.text \n",
    "\n",
    "        #create soup object of the html code for further processing\n",
    "        soup = BeautifulSoup(htmltext, features=\"html.parser\")\n",
    "\n",
    "        #product name equals page title\n",
    "        productname, brand = soup.title.text.split(\"– \")\n",
    "\n",
    "        #hardparse out ingredient list as html is inconsistent across pages\n",
    "\n",
    "        start_identifier = \"Inhaltsstoffe</strong><br />\"\n",
    "        idxstart = htmltext.find(start_identifier)\n",
    "        idxstart += len(start_identifier)\n",
    "\n",
    "        htmltext = htmltext[idxstart:].strip()\n",
    "\n",
    "        #two possibilities of marking end of ingredient list\n",
    "\n",
    "        idxend = htmltext.find('</p>')\n",
    "        idxend_alt = htmltext.find(\"</div>\")\n",
    "\n",
    "        #make sure that the first occurring ending marker in the string is used\n",
    "        if (idxend_alt < idxend and idxend_alt >= 0):\n",
    "            idxend = idxend_alt\n",
    "\n",
    "\n",
    "        htmltext = htmltext[:idxend].strip().replace(\"&nbsp;\",\"\")\n",
    "\n",
    "        ingredient_list = htmltext.split(\", \")\n",
    "\n",
    "        print(\"product name: \" + productname)\n",
    "        print(\"brand name: \" + brand)\n",
    "        print(ingredient_list)\n",
    "        print(\"\")\n",
    "        \n",
    "        \n",
    "\n",
    "    return None\n",
    "\n",
    "\n",
    "\n"
   ]
  },
  {
   "cell_type": "code",
   "execution_count": 10,
   "metadata": {},
   "outputs": [
    {
     "name": "stdout",
     "output_type": "stream",
     "text": [
      "product name: 2 % BHA Peeling\n",
      "brand name: colibri skincare\n",
      "['Aqua', 'Propanediol', 'Pentylene Glycol', 'Glycerin', 'Salicylic Acid', 'Camellia Sinensis Leaf Extract', 'Epigallocatechin Gallate', 'Sodium Gluconate', 'Polyglyceryl-10 Laurate', 'Xanthan Gum', 'Citric Acid']\n",
      "\n",
      "product name: Barrier Booster\n",
      "brand name: colibri skincare\n",
      "['Aqua', 'Pentylene Glycol', 'Panthenol', 'Tricaprylin', 'Glyceryl Stearate', 'Candelilla/Jojoba/Rice Bran Polyglyceryl-3Esters', 'Ascorbyl Glucoside', 'Caprylyl Caprylate/Caprate', 'Ectoin', 'Niacinamide', 'Squalane', 'Ceramide NP', 'Ceramide AP', 'Ceramide AS', 'Ceramide NS', 'Ceramide EOP', 'Linoleic Acid', 'Linolenic Acid,Cholesterol', 'Asiaticoside', 'Madecassic Acid', 'Asiatic Acid', 'Tocopherol', 'Allantoin', 'Beta-Glucan', 'Glycerin', 'Sodium Hyaluronate', 'Hydrogenated Lecithin', 'Prunus Amygdalus Dulcis (Sweet Almond) Oil', 'Cetearyl Alcohol', 'Sodium Stearoyl Lactylate', 'Citric Acid', 'Dipropylene Glycol', 'Sucrose Distearate', 'Helianthus Annuus (Sunflower) Seed Oil', 'Propylheptyl Caprylate', 'Xanthan Gum']\n",
      "\n",
      "product name: Niacinamide Booster\n",
      "brand name: colibri skincare\n",
      "['Aqua', 'Niacinamide', 'Glycerin', 'Acetyl Glucosamine', 'Butylene Glycol', 'Pentylene Glycol', 'Glycyrrhiza Glabra Root Extract', 'Glycyrrhetinic Acid', 'Allantoin', 'Arginine', 'Sodium Hyaluronate', 'Carbomer']\n",
      "\n",
      "product name: Retinol Serum\n",
      "brand name: colibri skincare\n",
      "['Aqua', 'Glycerin', 'Niacinamide', 'Sodium Ascorbyl Phosphate', 'Tricaprylin', 'Glyceryl Stearate', 'Candelilla/Jojoba/Rice Bran Polyglyceryl-3 Esters', 'Panthenol', 'Caprylyl Caprylate/Caprate', 'Squalane', 'Ceramide NP', 'Ceramide AP', 'Ceramide AS', 'Ceramide NS', 'Ceramide EOP', 'Sodium Hyaluronate', 'Allantoin', 'Bakuchiol', 'Retinol', 'Retinal', 'Asiaticoside', 'Madecassic Acid', 'Cholesterol', 'Tocopherol', 'Helianthus Annuus (Sunflower) Seed Oil', 'Epigallocatechin Gallate', 'Asiatic acid', 'Propylheptyl Caprylate', 'Prunus Amygdalus Dulcis (Sweet Almond) Oil', 'Sodium Levulinate', 'Argania Spinosa Kernel Oil', 'Cetearyl Alcohol', 'Sodium Stearoyl Lactylate', 'Hydroxypropyl Cyclodextrin', 'Xanthan Gum', 'Sodium Anisate', 'Glyceryl Caprylate', 'Citric Acid', 'Aqua', 'Hydrogenated Lecithin', 'Dipropylene Glycol', 'Sucrose Distearate']\n",
      "\n",
      "product name: Hyaluron Konzentrat\n",
      "brand name: colibri skincare\n",
      "['Aqua', 'Pentylene Glycol', 'Butylene Glycol', 'Glycerin', 'Urea', 'Sodium Lactate', 'Sodium PCA', 'Panthenol', 'Lactic Acid', 'Sodium Hyaluronate', 'N-Acetyl Glucosamine', 'Hyaluronic Acid', 'Hydrolyzed Sodium Hyaluronate', 'Sodium Acetylated Hyaluronate', 'Allantoin', 'Phospholipids', 'Sphingolipids', 'Citric Acid', 'Tremella Fuciformis Sporocarp Extract', 'Phenoxyethanol', 'Potassium Sorbate', 'Sodium Citrate']\n",
      "\n",
      "product name: Exfoliate Booster\n",
      "brand name: colibri skincare\n",
      "['Aqua', 'Lactic Acid', 'Glycolic Acid', 'Glycerin', 'Pentylene Glycol', 'Bifida Ferment Filtrate', 'Salicylic Acid', 'Ascorbic Acid', 'Gluconic Acid', 'Malic Acid', 'Tartaric Acid', 'Allantoin', 'Citric Acid', 'Dipropylene Glycol', 'Sodium Hyaluronate', 'Xanthan Gum']\n",
      "\n",
      "product name: Calming Moisturizer\n",
      "brand name: colibri skincare\n",
      "['Aqua', 'Squalane', 'Decyl Cocoate', 'Glycerin', 'Butyrospermum Parkii Butter', 'Glyceryl Stearate Citrate', 'Cetearyl Alcohol', 'Panthenol', 'Prunus Amygdalus Dulcis Oil', 'Ceramide NP', 'Tocopherol', 'Centella Asiatica Leaf Extract', 'Glyceryl Stearate', 'Hydroxyacetophenone', '1,2 Hexanediol', 'Caprylyl Glycol', 'Sodium Stearoyl Glutamate', 'Sodium Hyaluronate', 'Butylene Glycol', 'Caprylic/Capric Triglyceride', 'Hydrogenated Phosphatidylcholine', 'Helianthus Annuus Seed Oil', 'Citric Acid', 'Asiaticoside', 'Pentylene Glycol', 'Madecassic Acid', 'Asiatic Acid', 'Xanthan Gum']\n",
      "\n",
      "product name: Brightening Booster\n",
      "brand name: colibri skincare\n",
      "['Aqua', 'Azelaic Acid', 'Glycerin', 'Coco-Caprylate', 'Pentylene Glycol', 'Potassium Hydroxide', 'Methyl Glucose Sesquistearate', 'Simmondsia Chinensis (Jojoba) Seed Oil', 'Squalane', 'Ethyl Macadamiate', 'Cetearyl Alcohol', 'Prunus Domestica Seed Oil', 'Glycyrrhiza Glabra (Licorice) Root Extract', '3-O-Ethyl Ascorbic Acid', 'Camellia Sinensis Leaf Extract', 'Glycyrrhiza Glabra Root Extract', 'Tocopherol', 'Mandelic Acid', 'Malic Acid', 'Behenyl Alcohol', 'Xanthan Gum']\n",
      "\n"
     ]
    }
   ],
   "source": [
    "cs_getIngredientData()"
   ]
  },
  {
   "cell_type": "code",
   "execution_count": null,
   "metadata": {},
   "outputs": [],
   "source": []
  },
  {
   "cell_type": "code",
   "execution_count": null,
   "metadata": {},
   "outputs": [],
   "source": []
  }
 ],
 "metadata": {
  "kernelspec": {
   "display_name": "Python 3",
   "language": "python",
   "name": "python3"
  },
  "language_info": {
   "codemirror_mode": {
    "name": "ipython",
    "version": 3
   },
   "file_extension": ".py",
   "mimetype": "text/x-python",
   "name": "python",
   "nbconvert_exporter": "python",
   "pygments_lexer": "ipython3",
   "version": "3.8.10"
  }
 },
 "nbformat": 4,
 "nbformat_minor": 4
}
